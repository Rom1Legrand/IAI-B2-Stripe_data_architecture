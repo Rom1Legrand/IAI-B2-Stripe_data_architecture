{
 "cells": [
  {
   "cell_type": "markdown",
   "metadata": {},
   "source": [
    "# Queries de création pour base de données NO_SQL"
   ]
  },
  {
   "cell_type": "markdown",
   "metadata": {},
   "source": [
    "## Création des tables"
   ]
  },
  {
   "cell_type": "markdown",
   "metadata": {},
   "source": [
    "Nom de la database: **strip_nosql** sur **MongoDB**"
   ]
  },
  {
   "cell_type": "markdown",
   "metadata": {},
   "source": [
    "### Transaction"
   ]
  },
  {
   "cell_type": "code",
   "execution_count": null,
   "metadata": {
    "vscode": {
     "languageId": "javascript"
    }
   },
   "outputs": [],
   "source": [
    "{\n",
    "  \"transaction_id\": \"TX12345\",\n",
    "  \"customer_id\": \"CUST001\",\n",
    "  \"merchant_id\": \"MERCH001\",\n",
    "  \"date\": {\n",
    "    \"date\": \"2024-10-17T12:30:00Z\",\n",
    "    \"year\": 2024,\n",
    "    \"month\": 10,\n",
    "    \"day\": 17\n",
    "  },\n",
    "  \"amount\": 100.50,\n",
    "  \"currency\": {\n",
    "    \"currency_code\": \"USD\",\n",
    "    \"exchange_rate\": 1.0\n",
    "  },\n",
    "  \"fraud_score\": 0.85,\n",
    "  \"status\": \"completed\",\n",
    "  \"location\": {\n",
    "    \"country_code\": \"US\",\n",
    "    \"city\": \"San Francisco\"\n",
    "  },\n",
    "  \"payment_method\": {\n",
    "    \"type\": \"credit_card\",\n",
    "    \"provider\": \"Visa\"\n",
    "  },\n",
    "  \"device\": {\n",
    "    \"type\": \"mobile\",\n",
    "    \"operating_system\": \"iOS\"\n",
    "  },\n",
    "  \"logs\": [\n",
    "    {\n",
    "      \"timestamp\": \"2024-10-17T12:31:00Z\",\n",
    "      \"log_message\": \"Transaction completed\",\n",
    "      \"severity\": \"info\"\n",
    "    }\n",
    "  ],\n",
    "  \"interaction_data\": {\n",
    "    \"session_id\": \"SES12345\",\n",
    "    \"clickstream\": [\n",
    "      {\n",
    "        \"timestamp\": \"2024-10-17T12:29:00Z\",\n",
    "        \"page\": \"product_page\",\n",
    "        \"action\": \"click\",\n",
    "        \"element\": \"buy_button\"\n",
    "      }\n",
    "    ]\n",
    "  }\n",
    "}"
   ]
  },
  {
   "cell_type": "code",
   "execution_count": null,
   "metadata": {
    "vscode": {
     "languageId": "javascript"
    }
   },
   "outputs": [],
   "source": [
    "{\n",
    "    \"transaction_id\": \"TX1004\",\n",
    "    \"customer_id\": \"CUST004\",\n",
    "    \"merchant_id\": \"MERCH002\",\n",
    "    \"date\": {\n",
    "      \"date\": \"2024-10-18T08:45:00Z\",\n",
    "      \"year\": 2024,\n",
    "      \"month\": 10,\n",
    "      \"day\": 18\n",
    "    },\n",
    "    \"amount\": 350,\n",
    "    \"currency\": {\n",
    "      \"currency_code\": \"EUR\",\n",
    "      \"exchange_rate\": 1.1\n",
    "    },\n",
    "    \"fraud_score\": 0.2,\n",
    "    \"status\": \"completed\",\n",
    "    \"location\": {\n",
    "      \"country_code\": \"FR\",\n",
    "      \"city\": \"Lyon\"\n",
    "    },\n",
    "    \"payment_method\": {\n",
    "      \"type\": \"paypal\",\n",
    "      \"provider\": \"Paypal\"\n",
    "    },\n",
    "    \"device\": {\n",
    "      \"type\": \"desktop\",\n",
    "      \"operating_system\": \"macOS\"\n",
    "    }\n",
    "  }"
   ]
  },
  {
   "cell_type": "code",
   "execution_count": null,
   "metadata": {
    "vscode": {
     "languageId": "javascript"
    }
   },
   "outputs": [],
   "source": [
    "{\n",
    "    \"transaction_id\": \"TX1004\",\n",
    "    \"customer_id\": \"CUST004\",\n",
    "    \"merchant_id\": \"MERCH002\",\n",
    "    \"date\": {\n",
    "      \"date\": \"2024-10-18T08:45:00Z\",\n",
    "      \"year\": 2024,\n",
    "      \"month\": 10,\n",
    "      \"day\": 18\n",
    "    },\n",
    "    \"amount\": 350,\n",
    "    \"currency\": {\n",
    "      \"currency_code\": \"EUR\",\n",
    "      \"exchange_rate\": 1.1\n",
    "    },\n",
    "    \"fraud_score\": 0.2,\n",
    "    \"status\": \"completed\",\n",
    "    \"location\": {\n",
    "      \"country_code\": \"FR\",\n",
    "      \"city\": \"Lyon\"\n",
    "    },\n",
    "    \"payment_method\": {\n",
    "      \"type\": \"paypal\",\n",
    "      \"provider\": \"Paypal\"\n",
    "    },\n",
    "    \"device\": {\n",
    "      \"type\": \"desktop\",\n",
    "      \"operating_system\": \"macOS\"\n",
    "    }\n",
    "  }"
   ]
  },
  {
   "cell_type": "code",
   "execution_count": null,
   "metadata": {
    "vscode": {
     "languageId": "javascript"
    }
   },
   "outputs": [],
   "source": [
    "{\n",
    "    \"transaction_id\": \"TX1005\",\n",
    "    \"customer_id\": \"CUST005\",\n",
    "    \"merchant_id\": \"MERCH003\",\n",
    "    \"date\": {\n",
    "      \"date\": \"2024-10-19T16:00:00Z\",\n",
    "      \"year\": 2024,\n",
    "      \"month\": 10,\n",
    "      \"day\": 19\n",
    "    },\n",
    "    \"amount\": 890.5,\n",
    "    \"currency\": {\n",
    "      \"currency_code\": \"GBP\",\n",
    "      \"exchange_rate\": 1.3\n",
    "    },\n",
    "    \"fraud_score\": 0.75,\n",
    "    \"status\": \"fraudulent\",\n",
    "    \"location\": {\n",
    "      \"country_code\": \"UK\",\n",
    "      \"city\": \"London\"\n",
    "    },\n",
    "    \"payment_method\": {\n",
    "      \"type\": \"credit_card\",\n",
    "      \"provider\": \"Visa\"\n",
    "    },\n",
    "    \"device\": {\n",
    "      \"type\": \"mobile\",\n",
    "      \"operating_system\": \"iOS\"\n",
    "    }\n",
    "  }"
   ]
  },
  {
   "cell_type": "markdown",
   "metadata": {},
   "source": [
    "### Error_logs"
   ]
  },
  {
   "cell_type": "code",
   "execution_count": null,
   "metadata": {
    "vscode": {
     "languageId": "javascript"
    }
   },
   "outputs": [],
   "source": [
    "{\n",
    "  \"log_id\": \"LOG12345\",\n",
    "  \"timestamp\": \"2024-10-17T14:00:00Z\",\n",
    "  \"transaction_id\": \"TX12345\",\n",
    "  \"severity\": \"error\",\n",
    "  \"message\": \"Payment gateway timeout\",\n",
    "  \"error_code\": \"504\",\n",
    "  \"merchant_id\": \"MERCH001\",\n",
    "  \"device_id\": \"DEV12345\",\n",
    "  \"location\": {\n",
    "    \"country_code\": \"US\",\n",
    "    \"city\": \"San Francisco\"\n",
    "  }\n",
    "}\n"
   ]
  },
  {
   "cell_type": "code",
   "execution_count": null,
   "metadata": {
    "vscode": {
     "languageId": "javascript"
    }
   },
   "outputs": [],
   "source": [
    "{\n",
    "    \"log_id\": \"LOG1004\",\n",
    "    \"timestamp\": \"2024-10-18T08:50:00Z\",\n",
    "    \"transaction_id\": \"TX1004\",\n",
    "    \"severity\": \"info\",\n",
    "    \"message\": \"Transaction completed\",\n",
    "    \"error_code\": \"200\",\n",
    "    \"merchant_id\": \"MERCH002\",\n",
    "    \"device_id\": \"DEV1004\",\n",
    "    \"location\": {\n",
    "      \"country_code\": \"FR\",\n",
    "      \"city\": \"Lyon\"\n",
    "    }\n",
    "  }"
   ]
  },
  {
   "cell_type": "code",
   "execution_count": null,
   "metadata": {
    "vscode": {
     "languageId": "javascript"
    }
   },
   "outputs": [],
   "source": [
    "{\n",
    "    \"log_id\": \"LOG1003\",\n",
    "    \"timestamp\": \"2024-10-15T11:15:00Z\",\n",
    "    \"transaction_id\": \"TX1003\",\n",
    "    \"severity\": \"info\",\n",
    "    \"message\": \"Transaction successful\",\n",
    "    \"error_code\": \"200\",\n",
    "    \"merchant_id\": \"MERCH001\",\n",
    "    \"device_id\": \"DEV1003\",\n",
    "    \"location\": {\n",
    "      \"country_code\": \"US\",\n",
    "      \"city\": \"San Francisco\"\n",
    "    }\n",
    "  }"
   ]
  },
  {
   "cell_type": "code",
   "execution_count": null,
   "metadata": {
    "vscode": {
     "languageId": "javascript"
    }
   },
   "outputs": [],
   "source": [
    "{\n",
    "    \"log_id\": \"LOG1005\",\n",
    "    \"timestamp\": \"2024-10-19T16:05:00Z\",\n",
    "    \"transaction_id\": \"TX1005\",\n",
    "    \"severity\": \"error\",\n",
    "    \"message\": \"Transaction marked as fraudulent\",\n",
    "    \"error_code\": \"400\",\n",
    "    \"merchant_id\": \"MERCH003\",\n",
    "    \"device_id\": \"DEV1005\",\n",
    "    \"location\": {\n",
    "      \"country_code\": \"UK\",\n",
    "      \"city\": \"London\"\n",
    "    }\n",
    "  }"
   ]
  },
  {
   "cell_type": "markdown",
   "metadata": {},
   "source": [
    "### User_interactions"
   ]
  },
  {
   "cell_type": "code",
   "execution_count": null,
   "metadata": {
    "vscode": {
     "languageId": "javascript"
    }
   },
   "outputs": [],
   "source": [
    "{\n",
    "  \"session_id\": \"SES12345\",\n",
    "  \"customer_id\": \"CUST001\",\n",
    "  \"start_time\": \"2024-10-17T12:00:00Z\",\n",
    "  \"end_time\": \"2024-10-17T12:30:00Z\",\n",
    "  \"clickstream\": [\n",
    "    {\n",
    "      \"timestamp\": \"2024-10-17T12:05:00Z\",\n",
    "      \"page\": \"homepage\",\n",
    "      \"action\": \"view\",\n",
    "      \"element\": \"banner\"\n",
    "    },\n",
    "    {\n",
    "      \"timestamp\": \"2024-10-17T12:15:00Z\",\n",
    "      \"page\": \"product_page\",\n",
    "      \"action\": \"click\",\n",
    "      \"element\": \"add_to_cart\"\n",
    "    }\n",
    "  ],\n",
    "  \"total_time_spent\": 1800,\n",
    "  \"bounce_rate\": 0.25\n",
    "}\n",
    "\n"
   ]
  },
  {
   "cell_type": "code",
   "execution_count": null,
   "metadata": {
    "vscode": {
     "languageId": "javascript"
    }
   },
   "outputs": [],
   "source": [
    "{\n",
    "    \"session_id\": \"SES1004\",\n",
    "    \"customer_id\": \"CUST004\",\n",
    "    \"start_time\": \"2024-10-18T07:30:00Z\",\n",
    "    \"end_time\": \"2024-10-18T08:15:00Z\",\n",
    "    \"clickstream\": [\n",
    "      {\n",
    "        \"timestamp\": \"2024-10-18T07:35:00Z\",\n",
    "        \"page\": \"product_page\",\n",
    "        \"action\": \"click\",\n",
    "        \"element\": \"add_to_cart_button\"\n",
    "      }\n",
    "    ],\n",
    "    \"total_time_spent\": 2700,\n",
    "    \"bounce_rate\": 0.2\n",
    "  }"
   ]
  },
  {
   "cell_type": "code",
   "execution_count": null,
   "metadata": {
    "vscode": {
     "languageId": "javascript"
    }
   },
   "outputs": [],
   "source": [
    "{\n",
    "    \"session_id\": \"SES1003\",\n",
    "    \"customer_id\": \"CUST003\",\n",
    "    \"start_time\": \"2024-10-15T10:30:00Z\",\n",
    "    \"end_time\": \"2024-10-15T11:00:00Z\",\n",
    "    \"clickstream\": [\n",
    "      {\n",
    "        \"timestamp\": \"2024-10-15T10:35:00Z\",\n",
    "        \"page\": \"homepage\",\n",
    "        \"action\": \"view\",\n",
    "        \"element\": \"promo_banner\"\n",
    "      },\n",
    "      {\n",
    "        \"timestamp\": \"2024-10-15T10:55:00Z\",\n",
    "        \"page\": \"checkout\",\n",
    "        \"action\": \"click\",\n",
    "        \"element\": \"buy_now_button\"\n",
    "      }\n",
    "    ],\n",
    "    \"total_time_spent\": 1800,\n",
    "    \"bounce_rate\": 0.4\n",
    "  }"
   ]
  },
  {
   "cell_type": "markdown",
   "metadata": {},
   "source": [
    "### Machine_learning_features"
   ]
  },
  {
   "cell_type": "code",
   "execution_count": null,
   "metadata": {
    "vscode": {
     "languageId": "javascript"
    }
   },
   "outputs": [],
   "source": [
    "{\n",
    "  \"model_id\": \"ML12345\",\n",
    "  \"customer_id\": \"CUST001\",\n",
    "  \"session_id\": \"SES12345\",\n",
    "  \"features\": {\n",
    "    \"total_transactions\": 50,\n",
    "    \"average_transaction_value\": 75.20,\n",
    "    \"fraud_score\": 0.85,\n",
    "    \"session_duration\": 300\n",
    "  },\n",
    "  \"prediction\": \"low_risk\",\n",
    "  \"model_score\": 0.95\n",
    "}\n"
   ]
  },
  {
   "cell_type": "code",
   "execution_count": null,
   "metadata": {
    "vscode": {
     "languageId": "javascript"
    }
   },
   "outputs": [],
   "source": [
    "{\n",
    "    \"model_id\": \"ML1003\",\n",
    "    \"customer_id\": \"CUST003\",\n",
    "    \"session_id\": \"SES1003\",\n",
    "    \"features\": {\n",
    "      \"total_transactions\": 20,\n",
    "      \"average_transaction_value\": 75,\n",
    "      \"fraud_score\": 0.4,\n",
    "      \"session_duration\": 1800\n",
    "    },\n",
    "    \"prediction\": \"low_risk\",\n",
    "    \"model_score\": 0.95\n",
    "  }"
   ]
  },
  {
   "cell_type": "code",
   "execution_count": null,
   "metadata": {
    "vscode": {
     "languageId": "javascript"
    }
   },
   "outputs": [],
   "source": [
    "{\n",
    "    \"model_id\": \"ML1004\",\n",
    "    \"customer_id\": \"CUST004\",\n",
    "    \"session_id\": \"SES1004\",\n",
    "    \"features\": {\n",
    "      \"total_transactions\": 15,\n",
    "      \"average_transaction_value\": 150,\n",
    "      \"fraud_score\": 0.2,\n",
    "      \"session_duration\": 2700\n",
    "    },\n",
    "    \"prediction\": \"low_risk\",\n",
    "    \"model_score\": 0.85\n",
    "  }"
   ]
  },
  {
   "cell_type": "markdown",
   "metadata": {},
   "source": [
    "### Customer_feedback"
   ]
  },
  {
   "cell_type": "code",
   "execution_count": null,
   "metadata": {
    "vscode": {
     "languageId": "javascript"
    }
   },
   "outputs": [],
   "source": [
    "{\n",
    "  \"feedback_id\": \"FB12345\",\n",
    "  \"customer_id\": \"CUST001\",\n",
    "  \"merchant_id\": \"MERCH001\",\n",
    "  \"timestamp\": \"2024-10-17T14:15:00Z\",\n",
    "  \"rating\": 4,\n",
    "  \"review\": \"Great service, fast delivery!\",\n",
    "  \"survey_responses\": [\n",
    "    {\n",
    "      \"question\": \"How satisfied are you with the product?\",\n",
    "      \"answer\": \"Very satisfied\"\n",
    "    },\n",
    "    {\n",
    "      \"question\": \"Would you recommend this product?\",\n",
    "      \"answer\": \"Yes\"\n",
    "    }\n",
    "  ]\n",
    "}\n"
   ]
  },
  {
   "cell_type": "code",
   "execution_count": null,
   "metadata": {
    "vscode": {
     "languageId": "javascript"
    }
   },
   "outputs": [],
   "source": [
    "{\n",
    "    \"feedback_id\": \"FB1004\",\n",
    "    \"customer_id\": \"CUST004\",\n",
    "    \"merchant_id\": \"MERCH002\",\n",
    "    \"timestamp\": \"2024-10-18T14:30:00Z\",\n",
    "    \"rating\": 5,\n",
    "    \"review\": \"Excellent product and fast delivery.\",\n",
    "    \"survey_responses\": [\n",
    "      {\n",
    "        \"question\": \"How would you rate the product quality?\",\n",
    "        \"answer\": \"Excellent\"\n",
    "      },\n",
    "      {\n",
    "        \"question\": \"How would you rate the delivery time?\",\n",
    "        \"answer\": \"Fast\"\n",
    "      }\n",
    "    ]\n",
    "  }"
   ]
  },
  {
   "cell_type": "code",
   "execution_count": null,
   "metadata": {
    "vscode": {
     "languageId": "javascript"
    }
   },
   "outputs": [],
   "source": [
    "{\n",
    "    \"feedback_id\": \"FB1003\",\n",
    "    \"customer_id\": \"CUST003\",\n",
    "    \"merchant_id\": \"MERCH001\",\n",
    "    \"timestamp\": \"2024-10-15T12:00:00Z\",\n",
    "    \"rating\": 4,\n",
    "    \"review\": \"Good product, but delivery was slow.\",\n",
    "    \"survey_responses\": [\n",
    "      {\n",
    "        \"question\": \"How would you rate the product quality?\",\n",
    "        \"answer\": \"Good\"\n",
    "      },\n",
    "      {\n",
    "        \"question\": \"How would you rate the delivery time?\",\n",
    "        \"answer\": \"Slow\"\n",
    "      }\n",
    "    ]\n",
    "  }"
   ]
  },
  {
   "cell_type": "markdown",
   "metadata": {},
   "source": [
    "### Merchant"
   ]
  },
  {
   "cell_type": "code",
   "execution_count": null,
   "metadata": {
    "vscode": {
     "languageId": "javascript"
    }
   },
   "outputs": [],
   "source": []
  },
  {
   "cell_type": "code",
   "execution_count": null,
   "metadata": {
    "vscode": {
     "languageId": "javascript"
    }
   },
   "outputs": [],
   "source": [
    "{\n",
    "  \"merchant_id\": \"MERCH001\",\n",
    "  \"merchant_name\": \"Super Shop\",\n",
    "  \"merchant_category\": \"Retail\",\n",
    "  \"contact_info\": {\n",
    "    \"email\": \"contact@supershop.com\",\n",
    "    \"phone\": \"+123456789\"\n",
    "  }\n",
    "}\n"
   ]
  },
  {
   "cell_type": "markdown",
   "metadata": {},
   "source": [
    "### Product"
   ]
  },
  {
   "cell_type": "code",
   "execution_count": null,
   "metadata": {
    "vscode": {
     "languageId": "javascript"
    }
   },
   "outputs": [],
   "source": [
    "{\n",
    "  \"product_id\": \"PROD001\",\n",
    "  \"merchant_id\": \"MERCH001\",\n",
    "  \"product_name\": \"Laptop\",\n",
    "  \"category\": \"Electronics\",\n",
    "  \"price\": 999.99\n",
    "}\n"
   ]
  },
  {
   "cell_type": "markdown",
   "metadata": {},
   "source": [
    "### Country_region_codes"
   ]
  },
  {
   "cell_type": "code",
   "execution_count": null,
   "metadata": {
    "vscode": {
     "languageId": "javascript"
    }
   },
   "outputs": [],
   "source": [
    "{\n",
    "  \"country_code\": \"US\",\n",
    "  \"country_name\": \"United States\",\n",
    "  \"region\": \"North America\"\n",
    "}\n"
   ]
  },
  {
   "cell_type": "markdown",
   "metadata": {},
   "source": [
    "### Currency_exchange_rates"
   ]
  },
  {
   "cell_type": "code",
   "execution_count": null,
   "metadata": {
    "vscode": {
     "languageId": "javascript"
    }
   },
   "outputs": [],
   "source": [
    "{\n",
    "  \"currency_code\": \"USD\",\n",
    "  \"currency_name\": \"United States Dollar\",\n",
    "  \"exchange_rate_to_usd\": 1.0\n",
    "}\n"
   ]
  },
  {
   "cell_type": "markdown",
   "metadata": {},
   "source": [
    "### Queries test"
   ]
  },
  {
   "cell_type": "code",
   "execution_count": null,
   "metadata": {
    "vscode": {
     "languageId": "javascript"
    }
   },
   "outputs": [],
   "source": [
    "{ \n",
    "    \"amount\": { \"$gt\": 500 },\n",
    "    \"status\": \"fraudulent\" \n",
    "  }\n",
    "  "
   ]
  },
  {
   "cell_type": "markdown",
   "metadata": {},
   "source": [
    "Trouve toutes les transactions où :\n",
    "\n",
    "Le montant est supérieur à 500\n",
    "ET le statut est \"fraudulent\""
   ]
  },
  {
   "cell_type": "code",
   "execution_count": null,
   "metadata": {
    "vscode": {
     "languageId": "javascript"
    }
   },
   "outputs": [],
   "source": [
    "{\n",
    "    \"merchant_id\": \"MERCH002\",\n",
    "    \"amount\": { \"$gt\": 200 }\n",
    "  }\n",
    "  "
   ]
  },
  {
   "cell_type": "markdown",
   "metadata": {},
   "source": [
    "Trouve toutes les transactions où :\n",
    "\n",
    "Le marchand a l'ID \"MERCH002\"\n",
    "ET le montant est supérieur à 200"
   ]
  },
  {
   "cell_type": "code",
   "execution_count": null,
   "metadata": {
    "vscode": {
     "languageId": "javascript"
    }
   },
   "outputs": [],
   "source": [
    "{\n",
    "    \"currency.currency_code\": \"USD\",\n",
    "    \"amount\": { \"$gte\": 50, \"$lte\": 150 }\n",
    "  }\n",
    "  "
   ]
  },
  {
   "cell_type": "markdown",
   "metadata": {},
   "source": [
    "Trouve toutes les transactions où :\n",
    "\n",
    "La devise est USD (le \"currency.currency_code\" utilise la notation point pour accéder à une propriété imbriquée)\n",
    "ET le montant est entre 50 et 150 inclus ($gte = greater than or equal, $lte = less than or equal)"
   ]
  },
  {
   "cell_type": "code",
   "execution_count": null,
   "metadata": {
    "vscode": {
     "languageId": "javascript"
    }
   },
   "outputs": [],
   "source": [
    "## avec agregation\n",
    "[\n",
    "    { \"$match\": {\n",
    "        \"customer_id\": \"CUST004\"\n",
    "    }},\n",
    "    { \"$lookup\": {\n",
    "        \"from\": \"Machine_learning_features\",\n",
    "        \"localField\": \"customer_id\",\n",
    "        \"foreignField\": \"customer_id\",\n",
    "        \"as\": \"ml_data\"\n",
    "    }}\n",
    "]"
   ]
  },
  {
   "cell_type": "markdown",
   "metadata": {},
   "source": [
    "requête analysait les transactions du client CUST004 (match) et récupérait ses données ML associées (lookup) "
   ]
  },
  {
   "cell_type": "code",
   "execution_count": null,
   "metadata": {
    "vscode": {
     "languageId": "javascript"
    }
   },
   "outputs": [],
   "source": []
  },
  {
   "cell_type": "markdown",
   "metadata": {},
   "source": [
    "# Queries de création pour base de données OLTP"
   ]
  },
  {
   "cell_type": "markdown",
   "metadata": {},
   "source": [
    "## Création des tables et valeurs"
   ]
  },
  {
   "cell_type": "markdown",
   "metadata": {},
   "source": [
    "Nom de la base de BDD : **OLTP_STRIP_PROJECT** sur **PostgreSQL / NeonDB**"
   ]
  },
  {
   "cell_type": "markdown",
   "metadata": {},
   "source": [
    "### Transaction"
   ]
  },
  {
   "cell_type": "code",
   "execution_count": null,
   "metadata": {
    "vscode": {
     "languageId": "sql"
    }
   },
   "outputs": [],
   "source": [
    "CREATE TABLE Transaction (\n",
    "    transaction_id VARCHAR PRIMARY KEY,\n",
    "    merchant_id VARCHAR REFERENCES Merchant(merchant_id),\n",
    "    customer_id VARCHAR REFERENCES Customer(customer_id),\n",
    "    payment_method_id VARCHAR REFERENCES Payment_method(payment_method_id),\n",
    "    device_type_id VARCHAR REFERENCES Device(device_type_id),\n",
    "    date_id VARCHAR,\n",
    "    status_id VARCHAR REFERENCES Status(status_id),\n",
    "    product_id VARCHAR REFERENCES Product(product_id),\n",
    "    location_id VARCHAR REFERENCES Location(location_id),\n",
    "    currency_id VARCHAR REFERENCES Currency(currency_id),\n",
    "    datetime TIMESTAMP,\n",
    "    amount DECIMAL(10,2),\n",
    "    tax DECIMAL(10,2)\n",
    ");\n",
    "\n"
   ]
  },
  {
   "cell_type": "code",
   "execution_count": null,
   "metadata": {
    "vscode": {
     "languageId": "sql"
    }
   },
   "outputs": [],
   "source": [
    "INSERT INTO Transaction (\n",
    "    transaction_id, merchant_id, customer_id, payment_method_id, \n",
    "    device_type_id, date_id, status_id, product_id, location_id, \n",
    "    currency_id, datetime, amount, tax\n",
    ") \n",
    "VALUES \n",
    "    ('TXN001', 'MERCH001', 'CUST001', 'PM001', \n",
    "    'DEV001', '20231022', 'STAT001', 'PROD001', 'LOC001', \n",
    "    'CUR001', '2023-10-22 14:30:00', 120.50, 10.00),\n",
    "\n",
    "    ('TXN002', 'MERCH002', 'CUST002', 'PM002', \n",
    "    'DEV002', '20231023', 'STAT002', 'PROD002', 'LOC002', \n",
    "    'CUR002', '2023-10-23 16:45:00', 85.75, 7.50),\n",
    "\n",
    "    ('TXN003', 'MERCH003', 'CUST003', 'PM003', \n",
    "    'DEV003', '20231024', 'STAT003', 'PROD003', 'LOC003', \n",
    "    'CUR003', '2023-10-24 11:00:00', 150.00, 12.50);\n",
    "\n"
   ]
  },
  {
   "cell_type": "markdown",
   "metadata": {},
   "source": [
    "### Customer"
   ]
  },
  {
   "cell_type": "code",
   "execution_count": null,
   "metadata": {
    "vscode": {
     "languageId": "sql"
    }
   },
   "outputs": [],
   "source": [
    "CREATE TABLE Customer (\n",
    "    customer_id VARCHAR PRIMARY KEY,\n",
    "        customer_name VARCHAR,\n",
    "            customer_email VARCHAR,\n",
    "                location_id VARCHAR,\n",
    "                    FOREIGN KEY (location_id) REFERENCES location(location_id)\n",
    "                    )\n"
   ]
  },
  {
   "cell_type": "code",
   "execution_count": null,
   "metadata": {
    "vscode": {
     "languageId": "sql"
    }
   },
   "outputs": [],
   "source": [
    "INSERT INTO Customer \n",
    "(customer_id, customer_name, customer_email, location_id)\n",
    "VALUES\n",
    "('CUST001', 'John Doe', 'johndoe@example.com', 'LOC001'),\n",
    "('CUST002', 'Jane Smith', 'janesmith@example.com', 'LOC002'),\n",
    "('CUST003', 'Alice Johnson', 'alicej@example.com', 'LOC003');\n"
   ]
  },
  {
   "cell_type": "markdown",
   "metadata": {},
   "source": [
    "### Merchant"
   ]
  },
  {
   "cell_type": "code",
   "execution_count": null,
   "metadata": {
    "vscode": {
     "languageId": "sql"
    }
   },
   "outputs": [],
   "source": [
    "CREATE TABLE Merchant (\n",
    "    merchant_id VARCHAR PRIMARY KEY,\n",
    "    merchant_name VARCHAR,\n",
    "    business_type VARCHAR,\n",
    "    location_id VARCHAR,\n",
    "    FOREIGN KEY (location_id) REFERENCES Location(location_id)\n",
    ")\n"
   ]
  },
  {
   "cell_type": "code",
   "execution_count": null,
   "metadata": {
    "vscode": {
     "languageId": "sql"
    }
   },
   "outputs": [],
   "source": [
    "INSERT INTO Merchant\n",
    "(merchant_id, merchant_name, business_type, location_id)\n",
    "VALUES\n",
    "('MERCH001', 'Best Electronics', 'Retail', 'LOC001'),\n",
    "('MERCH002', 'Fashion Hub', 'Fashion', 'LOC003'),\n",
    "('MERCH003', 'QuickMart', 'Grocery', 'LOC002');\n"
   ]
  },
  {
   "cell_type": "markdown",
   "metadata": {},
   "source": [
    "### Location"
   ]
  },
  {
   "cell_type": "code",
   "execution_count": null,
   "metadata": {
    "vscode": {
     "languageId": "sql"
    }
   },
   "outputs": [],
   "source": [
    "CREATE TABLE location (\n",
    "    location_id VARCHAR PRIMARY KEY,\n",
    "    country_name VARCHAR,\n",
    "    region VARCHAR,\n",
    "    city VARCHAR,\n",
    "    embargo BOOLEAN,\n",
    "    location_ip VARCHAR\n",
    ");\n"
   ]
  },
  {
   "cell_type": "code",
   "execution_count": null,
   "metadata": {
    "vscode": {
     "languageId": "sql"
    }
   },
   "outputs": [],
   "source": [
    "INSERT INTO location\n",
    "(location_id, country_name, region, city, location_ip, embargo)\n",
    "VALUES\n",
    "('LOC001', 'USA', 'North America', 'New York', '192.168.1.10', FALSE),\n",
    "('LOC002', 'France', 'Europe', 'Paris', '192.168.1.20', FALSE),\n",
    "('LOC003', 'Germany', 'Europe', 'Berlin', '192.168.1.30', FALSE),\n",
    "('LOC004', 'Iran', 'Middle East', 'Tehran', '192.168.1.40', TRUE)\n"
   ]
  },
  {
   "cell_type": "markdown",
   "metadata": {},
   "source": [
    "### Device"
   ]
  },
  {
   "cell_type": "code",
   "execution_count": null,
   "metadata": {
    "vscode": {
     "languageId": "sql"
    }
   },
   "outputs": [],
   "source": [
    "CREATE TABLE Device (\n",
    "    device_type_id VARCHAR PRIMARY KEY,\n",
    "        device_type VARCHAR,\n",
    "            operating_system VARCHAR\n",
    "            )\n"
   ]
  },
  {
   "cell_type": "code",
   "execution_count": null,
   "metadata": {
    "vscode": {
     "languageId": "sql"
    }
   },
   "outputs": [],
   "source": [
    "INSERT INTO device\n",
    "(device_type_id, device_type, operating_system)\n",
    "VALUES\n",
    "('DEV001', 'Smartphone', 'Android'),\n",
    "('DEV002', 'Tablet', 'iOS'),\n",
    "('DEV003', 'Laptop', 'Windows');\n"
   ]
  },
  {
   "cell_type": "markdown",
   "metadata": {},
   "source": [
    "### Payment_Method"
   ]
  },
  {
   "cell_type": "code",
   "execution_count": null,
   "metadata": {
    "vscode": {
     "languageId": "sql"
    }
   },
   "outputs": [],
   "source": [
    "CREATE TABLE Payment_Method (\n",
    "    payment_method_id VARCHAR PRIMARY KEY,\n",
    "        payment_type VARCHAR,\n",
    "            provider VARCHAR\n",
    "                )\n"
   ]
  },
  {
   "cell_type": "code",
   "execution_count": null,
   "metadata": {
    "vscode": {
     "languageId": "sql"
    }
   },
   "outputs": [],
   "source": [
    "INSERT INTO Payment_Method\n",
    "(payment_method_id, payment_type, provider)\n",
    "VALUES\n",
    "('PM001', 'Credit Card', 'VISA'),\n",
    "('PM002', 'PayPal', 'PayPal Inc.'),\n",
    "('PM003', 'Bank Transfer', 'BNP Paribas');\n"
   ]
  },
  {
   "cell_type": "markdown",
   "metadata": {},
   "source": [
    "### Currency"
   ]
  },
  {
   "cell_type": "code",
   "execution_count": null,
   "metadata": {
    "vscode": {
     "languageId": "sql"
    }
   },
   "outputs": [],
   "source": [
    "CREATE TABLE Currency (\n",
    "    currency_id VARCHAR PRIMARY KEY,\n",
    "        from_currency VARCHAR,\n",
    "            to_currency VARCHAR,\n",
    "                rate FLOAT\n",
    "                )\n"
   ]
  },
  {
   "cell_type": "code",
   "execution_count": null,
   "metadata": {
    "vscode": {
     "languageId": "sql"
    }
   },
   "outputs": [],
   "source": [
    "INSERT INTO Currency \n",
    "(currency_id, from_currency, to_currency, rate)\n",
    "VALUES\n",
    "('CUR001', 'USD', 'EUR', 0.85),\n",
    "('CUR002', 'EUR', 'JPY', 129.53),\n",
    "('CUR003', 'GBP', 'USD', 1.39),\n",
    "('CUR004', 'JPY', 'USD', 0.0091);\n",
    "\n"
   ]
  },
  {
   "cell_type": "markdown",
   "metadata": {},
   "source": [
    "### Product"
   ]
  },
  {
   "cell_type": "code",
   "execution_count": null,
   "metadata": {
    "vscode": {
     "languageId": "sql"
    }
   },
   "outputs": [],
   "source": [
    "CREATE TABLE Product (\n",
    "    product_id VARCHAR PRIMARY KEY,\n",
    "        product_name VARCHAR,\n",
    "            product_price DECIMAL(10, 2),\n",
    "                category VARCHAR,\n",
    "                    authorized BOOLEAN\n",
    "                    )\n"
   ]
  },
  {
   "cell_type": "code",
   "execution_count": null,
   "metadata": {
    "vscode": {
     "languageId": "sql"
    }
   },
   "outputs": [],
   "source": [
    "INSERT INTO Product\n",
    "(product_id, product_name, product_price, category, authorized)\n",
    "VALUES\n",
    "('PROD001', 'Smartphone X', 899.99, 'Electronics', TRUE),\n",
    "('PROD002', 'Designer Handbag', 1299.99, 'Fashion', TRUE),\n",
    "('PROD003', 'Organic Bananas', 3.99, 'Grocery', TRUE);\n"
   ]
  },
  {
   "cell_type": "markdown",
   "metadata": {},
   "source": [
    "### Status"
   ]
  },
  {
   "cell_type": "code",
   "execution_count": null,
   "metadata": {
    "vscode": {
     "languageId": "sql"
    }
   },
   "outputs": [],
   "source": [
    "CREATE TABLE Status (\n",
    "    status_id VARCHAR PRIMARY KEY,\n",
    "        status_name VARCHAR,\n",
    "            description VARCHAR,\n",
    "                fraud_score FLOAT,\n",
    "                    is_fraud BOOLEAN\n",
    "                    )\n"
   ]
  },
  {
   "cell_type": "code",
   "execution_count": null,
   "metadata": {
    "vscode": {
     "languageId": "sql"
    }
   },
   "outputs": [],
   "source": [
    "INSERT INTO Status\n",
    "(status_id, status_name, description, fraud_score, is_fraud)\n",
    "VALUES\n",
    "('STAT001', 'Completed', 'Transaction successfully completed', 0.1, FALSE),\n",
    "('STAT002', 'Pending', 'Transaction is pending', 0.0, FALSE),\n",
    "('STAT003', 'Fraudulent', 'Transaction flagged as fraud', 0.9, TRUE);\n"
   ]
  },
  {
   "cell_type": "markdown",
   "metadata": {},
   "source": [
    "### Queries test"
   ]
  },
  {
   "cell_type": "code",
   "execution_count": null,
   "metadata": {
    "vscode": {
     "languageId": "sql"
    }
   },
   "outputs": [],
   "source": [
    "SELECT transaction_id, merchant_id, customer_id, amount, tax \n",
    "FROM OLTP_STRIP_PROJECT.PUBLIC.Transaction \n",
    "WHERE amount > 100;\n"
   ]
  },
  {
   "cell_type": "code",
   "execution_count": null,
   "metadata": {
    "vscode": {
     "languageId": "sql"
    }
   },
   "outputs": [],
   "source": [
    "SELECT transaction_id, datetime, amount, tax \n",
    "FROM Transaction \n",
    "WHERE customer_id = 'CUST001';\n"
   ]
  },
  {
   "cell_type": "code",
   "execution_count": null,
   "metadata": {
    "vscode": {
     "languageId": "sql"
    }
   },
   "outputs": [],
   "source": [
    "SELECT transaction_id, merchant_id, amount, tax \n",
    "FROM OLTP_STRIP_PROJECT.PUBLIC.Transaction \n",
    "WHERE tax > 10;\n"
   ]
  },
  {
   "cell_type": "markdown",
   "metadata": {},
   "source": [
    "# Queries de création pour base de données OLAP"
   ]
  },
  {
   "cell_type": "markdown",
   "metadata": {},
   "source": [
    "## Création des tables et valeurs"
   ]
  },
  {
   "cell_type": "markdown",
   "metadata": {},
   "source": [
    "Nom de la base de BDD : **OLAP_STRIP_PROJECT** sur **Snowflake**"
   ]
  },
  {
   "cell_type": "markdown",
   "metadata": {},
   "source": [
    "### Fact_transaction"
   ]
  },
  {
   "cell_type": "code",
   "execution_count": null,
   "metadata": {
    "vscode": {
     "languageId": "sql"
    }
   },
   "outputs": [],
   "source": [
    "CREATE OR REPLACE TABLE OLAP_STRIP_PROJECT.PUBLIC.Fact_transaction (\n",
    "    transaction_key STRING PRIMARY KEY,\n",
    "    date_key TIMESTAMP REFERENCES OLAP_STRIP_PROJECT.PUBLIC.Dim_date(date_key),\n",
    "    customer_key STRING REFERENCES OLAP_STRIP_PROJECT.PUBLIC.Dim_customer(customer_key),\n",
    "    merchant_key STRING REFERENCES OLAP_STRIP_PROJECT.PUBLIC.Dim_merchant(merchant_key),\n",
    "    payment_method_key STRING REFERENCES OLAP_STRIP_PROJECT.PUBLIC.Dim_payment_method(payment_method_key),\n",
    "    product_key STRING REFERENCES OLAP_STRIP_PROJECT.PUBLIC.Dim_product(product_key),\n",
    "    fraud_key STRING REFERENCES OLAP_STRIP_PROJECT.PUBLIC.Fact_fraud_analysis(fraud_key),\n",
    "    currency_key STRING REFERENCES OLAP_STRIP_PROJECT.PUBLIC.Dim_currency(currency_key),\n",
    "    location_key STRING REFERENCES OLAP_STRIP_PROJECT.PUBLIC.Dim_location(location_key),\n",
    "    transaction_count INTEGER,\n",
    "    total_revenue FLOAT,\n",
    "    total_tax FLOAT\n",
    ");\n",
    "\n"
   ]
  },
  {
   "cell_type": "code",
   "execution_count": null,
   "metadata": {
    "vscode": {
     "languageId": "sql"
    }
   },
   "outputs": [],
   "source": [
    "INSERT INTO OLAP_STRIP_PROJECT.PUBLIC.Fact_transaction (transaction_key, date_key, customer_key, merchant_key, payment_method_key, product_key, fraud_key, currency_key, transaction_count, total_revenue, total_tax)\n",
    "VALUES \n",
    "('TRANS001', '2024-01-15 10:00:00', 'CUST001', 'MERCH001', 'PAY001', 'PROD001', 'FRAUD001', 'CUR001', 2, 1399.98, 279.99),\n",
    "('TRANS002', '2024-02-20 15:30:00', 'CUST002', 'MERCH002', 'PAY002', 'PROD002', 'FRAUD002', 'CUR002', 1, 99.99, 19.99),\n",
    "('TRANS003', '2024-03-25 18:45:00', 'CUST003', 'MERCH003', 'PAY003', 'PROD003', 'FRAUD003', 'CUR003', 10, 39.90, 7.98);\n",
    "\n"
   ]
  },
  {
   "cell_type": "markdown",
   "metadata": {},
   "source": [
    "### Fact_fraud_analysis"
   ]
  },
  {
   "cell_type": "code",
   "execution_count": null,
   "metadata": {
    "vscode": {
     "languageId": "sql"
    }
   },
   "outputs": [],
   "source": [
    "CREATE OR REPLACE TABLE OLAP_STRIP_PROJECT.PUBLIC.Fact_fraud_analysis (\n",
    "    fraud_key STRING PRIMARY KEY,\n",
    "    date_key TIMESTAMP REFERENCES OLAP_STRIP_PROJECT.PUBLIC.Dim_date(date_key),\n",
    "    merchant_key STRING REFERENCES OLAP_STRIP_PROJECT.PUBLIC.Dim_merchant(merchant_key),\n",
    "    payment_method_key STRING REFERENCES OLAP_STRIP_PROJECT.PUBLIC.Dim_payment_method(payment_method_key),\n",
    "    product_key STRING REFERENCES OLAP_STRIP_PROJECT.PUBLIC.Dim_product(product_key),\n",
    "    location_key STRING REFERENCES OLAP_STRIP_PROJECT.PUBLIC.Dim_location(location_key),\n",
    "    fraud_score FLOAT,\n",
    "    is_fraudulent BOOLEAN\n",
    ");\n",
    "\n",
    "\n",
    "\n"
   ]
  },
  {
   "cell_type": "code",
   "execution_count": null,
   "metadata": {
    "vscode": {
     "languageId": "sql"
    }
   },
   "outputs": [],
   "source": [
    "INSERT INTO OLAP_STRIP_PROJECT.PUBLIC.Fact_fraud_analysis (fraud_key, product_key, date_key, merchant_key, location_key, payment_method_key, fraud_score, is_fraudulent)\n",
    "VALUES \n",
    "('FRAUD001', 'PROD001', '2024-01-15 10:00:00', 'MERCH001', 'LOC001', 'PAY001', 0.85, TRUE),\n",
    "('FRAUD002', 'PROD002', '2024-02-20 15:30:00', 'MERCH002', 'LOC002', 'PAY002', 0.40, FALSE),\n",
    "('FRAUD003', 'PROD003', '2024-03-25 18:45:00', 'MERCH003', 'LOC003', 'PAY003', 0.60, TRUE);\n"
   ]
  },
  {
   "cell_type": "markdown",
   "metadata": {},
   "source": [
    "### Dim_date"
   ]
  },
  {
   "cell_type": "code",
   "execution_count": null,
   "metadata": {
    "vscode": {
     "languageId": "sql"
    }
   },
   "outputs": [],
   "source": [
    "CREATE OR REPLACE TABLE OLAP_STRIP_PROJECT.PUBLIC.Dim_date (\n",
    "    date_key TIMESTAMP PRIMARY KEY,\n",
    "    day INTEGER,\n",
    "    month INTEGER,\n",
    "    year INTEGER,\n",
    "    quarter INTEGER,\n",
    "    is_weekend BOOLEAN,\n",
    "    is_holiday BOOLEAN\n",
    ");\n",
    "\n",
    "\n",
    "\n"
   ]
  },
  {
   "cell_type": "code",
   "execution_count": null,
   "metadata": {
    "vscode": {
     "languageId": "sql"
    }
   },
   "outputs": [],
   "source": [
    "INSERT INTO OLAP_STRIP_PROJECT.PUBLIC.Dim_date (date_key, day, month, year, quarter, is_weekend, is_holiday)\n",
    "VALUES \n",
    "('2024-01-15 10:00:00', 15, 1, 2024, 1, FALSE, FALSE),\n",
    "('2024-02-20 15:30:00', 20, 2, 2024, 1, FALSE, FALSE),\n",
    "('2024-03-25 18:45:00', 25, 3, 2024, 1, TRUE, FALSE);\n"
   ]
  },
  {
   "cell_type": "markdown",
   "metadata": {},
   "source": [
    "### Dim_customer"
   ]
  },
  {
   "cell_type": "code",
   "execution_count": null,
   "metadata": {
    "vscode": {
     "languageId": "sql"
    }
   },
   "outputs": [],
   "source": [
    "CREATE OR REPLACE TABLE OLAP_STRIP_PROJECT.PUBLIC.Dim_customer (\n",
    "    customer_key STRING PRIMARY KEY,\n",
    "    customer_name STRING,\n",
    "    customer_age INTEGER,\n",
    "    customer_phone STRING,\n",
    "    customer_email STRING,\n",
    "    customer_since DATE,\n",
    "    customer_value STRING,\n",
    "    compliance_key STRING REFERENCES OLAP_STRIP_PROJECT.PUBLIC.Dim_compliance(compliance_key)\n",
    ");\n",
    "\n",
    "\n"
   ]
  },
  {
   "cell_type": "code",
   "execution_count": null,
   "metadata": {
    "vscode": {
     "languageId": "sql"
    }
   },
   "outputs": [],
   "source": [
    "INSERT INTO OLAP_STRIP_PROJECT.PUBLIC.Dim_customer (customer_key, customer_name, customer_age, customer_phone, customer_email, customer_since, customer_value)\n",
    "VALUES \n",
    "('CUST001', 'John Doe', 35, '0123456789', 'john.doe@example.com', '2020-01-01', 10000),\n",
    "('CUST002', 'Jane Smith', 28, '0123456790', 'jane.smith@example.com', '2019-02-01', 15000),\n",
    "('CUST003', 'Carlos Rossi', 45, '0123456791', 'carlos.rossi@example.com', '2018-03-01', 20000);\n"
   ]
  },
  {
   "cell_type": "markdown",
   "metadata": {},
   "source": [
    "### Dim_merchant"
   ]
  },
  {
   "cell_type": "code",
   "execution_count": null,
   "metadata": {
    "vscode": {
     "languageId": "sql"
    }
   },
   "outputs": [],
   "source": [
    "CREATE OR REPLACE TABLE OLAP_STRIP_PROJECT.PUBLIC.Dim_merchant (\n",
    "    merchant_key STRING PRIMARY KEY,\n",
    "    merchant_name STRING,\n",
    "    merchant_phone STRING,\n",
    "    merchant_email STRING,\n",
    "    business_type STRING,\n",
    "    country_name STRING,\n",
    "    registration_date DATE,\n",
    "    compliance_key STRING REFERENCES OLAP_STRIP_PROJECT.PUBLIC.Dim_compliance(compliance_key) \n",
    ");\n",
    "\n"
   ]
  },
  {
   "cell_type": "code",
   "execution_count": null,
   "metadata": {
    "vscode": {
     "languageId": "sql"
    }
   },
   "outputs": [],
   "source": [
    "    INSERT INTO OLAP_STRIP_PROJECT.PUBLIC.Dim_merchant (merchant_key, merchant_name, merchant_phone, merchant_email, business_type, country_name, registration_date)\n",
    "    VALUES \n",
    "    ('MERCH001', 'Tech Store', '0123456700', 'contact@techstore.com', 'Electronics', 'USA', '2015-06-01'),\n",
    "    ('MERCH002', 'Fashion Hub', '0123456701', 'info@fashionhub.com', 'Clothing', 'France', '2016-07-15'),\n",
    "    ('MERCH003', 'Grocery World', '0123456702', 'support@groceryworld.com', 'Retail', 'Japan', '2017-08-30');\n"
   ]
  },
  {
   "cell_type": "markdown",
   "metadata": {},
   "source": [
    "### Dim_payment_method"
   ]
  },
  {
   "cell_type": "code",
   "execution_count": null,
   "metadata": {
    "vscode": {
     "languageId": "sql"
    }
   },
   "outputs": [],
   "source": [
    "CREATE OR REPLACE TABLE OLAP_STRIP_PROJECT.PUBLIC.Dim_payment_method (\n",
    "    payment_method_key STRING PRIMARY KEY,\n",
    "    payment_type STRING,\n",
    "    provider STRING,\n",
    "    online BOOLEAN,\n",
    "    compliance_key STRING REFERENCES OLAP_STRIP_PROJECT.PUBLIC.Dim_compliance(compliance_key)\n",
    ");\n",
    "\n",
    "\n"
   ]
  },
  {
   "cell_type": "code",
   "execution_count": null,
   "metadata": {
    "vscode": {
     "languageId": "sql"
    }
   },
   "outputs": [],
   "source": [
    "INSERT INTO OLAP_STRIP_PROJECT.PUBLIC.Dim_payment_method (payment_method_key, payment_type, provider, online)\n",
    "VALUES \n",
    "('PAY001', 'Credit Card', 'Visa', TRUE),\n",
    "('PAY002', 'Debit Card', 'MasterCard', TRUE),\n",
    "('PAY003', 'PayPal', 'PayPal', TRUE);\n"
   ]
  },
  {
   "cell_type": "markdown",
   "metadata": {},
   "source": [
    "### Dim_product"
   ]
  },
  {
   "cell_type": "code",
   "execution_count": null,
   "metadata": {
    "vscode": {
     "languageId": "sql"
    }
   },
   "outputs": [],
   "source": [
    "CREATE OR REPLACE TABLE OLAP_STRIP_PROJECT.PUBLIC.Dim_product (\n",
    "    product_key STRING PRIMARY KEY,\n",
    "    product_name STRING,\n",
    "    price DECIMAL(10,2),\n",
    "    category STRING,\n",
    "    online BOOLEAN,\n",
    "    total_sell INT,\n",
    "    authorized BOOLEAN\n",
    ");\n",
    "\n"
   ]
  },
  {
   "cell_type": "code",
   "execution_count": null,
   "metadata": {
    "vscode": {
     "languageId": "sql"
    }
   },
   "outputs": [],
   "source": [
    "INSERT INTO OLAP_STRIP_PROJECT.PUBLIC.Dim_product (product_key, product_name, price, category, online, total_sell, authorized)\n",
    "VALUES \n",
    "('PROD001', 'Laptop', 1200.50, 'Electronics', TRUE, 150, TRUE),\n",
    "('PROD002', 'T-Shirt', 25.99, 'Clothing', TRUE, 500, TRUE),\n",
    "('PROD003', 'Apple', 1.25, 'Groceries', FALSE, 10000, TRUE);\n"
   ]
  },
  {
   "cell_type": "markdown",
   "metadata": {},
   "source": [
    "### Dim_location"
   ]
  },
  {
   "cell_type": "code",
   "execution_count": null,
   "metadata": {
    "vscode": {
     "languageId": "sql"
    }
   },
   "outputs": [],
   "source": [
    "CREATE OR REPLACE TABLE OLAP_STRIP_PROJECT.PUBLIC.Dim_location (\n",
    "    location_key STRING PRIMARY KEY,\n",
    "    country_name STRING,\n",
    "    region STRING,\n",
    "    city STRING,\n",
    "    embargo BOOLEAN,\n",
    "    location_ip STRING\n",
    ");\n"
   ]
  },
  {
   "cell_type": "code",
   "execution_count": null,
   "metadata": {
    "vscode": {
     "languageId": "sql"
    }
   },
   "outputs": [],
   "source": [
    "INSERT INTO OLAP_STRIP_PROJECT.PUBLIC.Dim_location (location_key, country_name, region, city, embargo, location_ip)\n",
    "VALUES \n",
    "('LOC001', 'France', 'Ile-de-France', 'Paris', FALSE, '192.168.0.1'),\n",
    "('LOC002', 'USA', 'California', 'San Francisco', FALSE, '192.168.0.2'),\n",
    "('LOC003', 'Japan', 'Kanto', 'Tokyo', FALSE, '192.168.0.3');\n"
   ]
  },
  {
   "cell_type": "markdown",
   "metadata": {},
   "source": [
    "### Dim_currency"
   ]
  },
  {
   "cell_type": "code",
   "execution_count": null,
   "metadata": {
    "vscode": {
     "languageId": "sql"
    }
   },
   "outputs": [],
   "source": [
    "CREATE OR REPLACE TABLE OLAP_STRIP_PROJECT.PUBLIC.Dim_currency (\n",
    "    currency_key STRING PRIMARY KEY,\n",
    "    from_currency STRING,\n",
    "    to_currency STRING,\n",
    "    exchange_rate FLOAT\n",
    ");\n",
    "\n"
   ]
  },
  {
   "cell_type": "code",
   "execution_count": null,
   "metadata": {
    "vscode": {
     "languageId": "sql"
    }
   },
   "outputs": [],
   "source": [
    "INSERT INTO OLAP_STRIP_PROJECT.PUBLIC.Dim_currency (currency_key, from_currency, to_currency, exchange_rate)\n",
    "VALUES \n",
    "('CUR001', 'USD', 'EUR', 0.85),\n",
    "('CUR002', 'EUR', 'JPY', 130.15),\n",
    "('CUR003', 'GBP', 'USD', 1.38);\n"
   ]
  },
  {
   "cell_type": "markdown",
   "metadata": {},
   "source": [
    "### Dim_compliance"
   ]
  },
  {
   "cell_type": "code",
   "execution_count": null,
   "metadata": {
    "vscode": {
     "languageId": "sql"
    }
   },
   "outputs": [],
   "source": [
    "CREATE OR REPLACE TABLE OLAP_STRIP_PROJECT.PUBLIC.Dim_compliance (\n",
    "    compliance_key STRING PRIMARY KEY,\n",
    "    regulation_type STRING,\n",
    "    compliance_status STRING,\n",
    "    audit_log STRING,\n",
    "    last_audit_date DATE\n",
    ");\n",
    "\n"
   ]
  },
  {
   "cell_type": "code",
   "execution_count": null,
   "metadata": {
    "vscode": {
     "languageId": "sql"
    }
   },
   "outputs": [],
   "source": [
    "INSERT INTO OLAP_STRIP_PROJECT.PUBLIC.Dim_compliance (compliance_key, regulation_type, compliance_status, audit_log, last_audit_date)\n",
    "VALUES \n",
    "('COMP001', 'GDPR', 'Compliant', 'Log001', '2023-01-15'),\n",
    "('COMP002', 'PCI-DSS', 'Non-Compliant', 'Log002', '2023-03-20'),\n",
    "('COMP003', 'HIPAA', 'Compliant', 'Log003', '2023-05-25');\n"
   ]
  },
  {
   "cell_type": "markdown",
   "metadata": {},
   "source": [
    "### Queries tests"
   ]
  },
  {
   "cell_type": "code",
   "execution_count": null,
   "metadata": {
    "vscode": {
     "languageId": "sql"
    }
   },
   "outputs": [],
   "source": [
    "SELECT \n",
    "    f.transaction_key,\n",
    "    c.customer_name,\n",
    "    f.total_revenue,\n",
    "    f.total_tax\n",
    "FROM OLAP_STRIP_PROJECT.PUBLIC.Fact_transaction f\n",
    "JOIN OLAP_STRIP_PROJECT.PUBLIC.Dim_customer c\n",
    "    ON f.customer_key = c.customer_key;\n"
   ]
  },
  {
   "cell_type": "markdown",
   "metadata": {},
   "source": [
    "Cette requête:\n",
    "\n",
    "Joint la table de faits (transactions) avec la dimension client\n",
    "Sélectionne la clé de transaction, le nom du client, le revenu total et la taxe totale\n",
    "Utilise \"f\" et \"c\" comme alias pour simplifier la syntaxe\n",
    "Effectue la jointure sur la clé client (customer_key)\n",
    "\n",
    "Elle permet d'analyser les revenus et taxes par client."
   ]
  },
  {
   "cell_type": "code",
   "execution_count": null,
   "metadata": {
    "vscode": {
     "languageId": "sql"
    }
   },
   "outputs": [],
   "source": [
    "SELECT \n",
    "    p.product_name,\n",
    "    p.category,\n",
    "    p.total_sell\n",
    "FROM OLAP_STRIP_PROJECT.PUBLIC.Dim_product p\n",
    "WHERE p.total_sell > 100;\n"
   ]
  },
  {
   "cell_type": "markdown",
   "metadata": {},
   "source": [
    "Cette requête sélectionne les produits avec plus de 100 ventes totales, montrant :\n",
    "\n",
    "Nom du produit\n",
    "Catégorie\n",
    "Nombre total de ventes\n",
    "\n",
    "Elle filtre avec WHERE pour n'afficher que les produits populaires (>100 ventes)."
   ]
  },
  {
   "cell_type": "code",
   "execution_count": null,
   "metadata": {
    "vscode": {
     "languageId": "sql"
    }
   },
   "outputs": [],
   "source": [
    "SELECT \n",
    "    f.transaction_key,\n",
    "    fa.fraud_score,\n",
    "    fa.is_fraudulent\n",
    "FROM OLAP_STRIP_PROJECT.PUBLIC.Fact_transaction f\n",
    "JOIN OLAP_STRIP_PROJECT.PUBLIC.Fact_fraud_analysis fa\n",
    "    ON f.fraud_key = fa.fraud_key\n",
    "WHERE fa.is_fraudulent = TRUE;\n"
   ]
  },
  {
   "cell_type": "markdown",
   "metadata": {},
   "source": [
    "Cette requête identifie les transactions frauduleuses en :\n",
    "\n",
    "Joignant la table de transactions avec l'analyse des fraudes\n",
    "Filtrant uniquement les cas confirmés (is_fraudulent = TRUE)\n",
    "Affichant la clé de transaction, le score de fraude et le statut frauduleux\n",
    "\n",
    "Elle aide à identifier et analyser les transactions suspectes."
   ]
  }
 ],
 "metadata": {
  "language_info": {
   "name": "python"
  }
 },
 "nbformat": 4,
 "nbformat_minor": 2
}
